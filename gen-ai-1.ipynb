{
  "cells": [
    {
      "cell_type": "code",
      "execution_count": null,
      "metadata": {
        "id": "VSR4FbcVHYLp"
      },
      "outputs": [],
      "source": [
        " #install the python sdk\n",
        " !pip install -q -U google-generativeai"
      ]
    },
    {
      "cell_type": "code",
      "execution_count": 3,
      "metadata": {
        "id": "Pck7krlyWG4R"
      },
      "outputs": [],
      "source": [
        "# Import necessary packages\n",
        "import pathlib\n",
        "import textwrap\n",
        "\n",
        "import google.generativeai as genai\n",
        "\n",
        "from IPython.display import Markdown, display\n",
        "\n",
        "# Define a function to convert text to Markdown format\n",
        "def to_markdown(text):\n",
        "    # Replace dot (.) with '*' or any other formatting symbol as needed\n",
        "    text = text.replace('.', '*')\n",
        "    return Markdown(textwrap.indent(text, '> ', predicate=lambda _: True))\n"
      ]
    },
    {
      "cell_type": "code",
      "execution_count": 5,
      "metadata": {
        "id": "q5ziSdZbXuEI"
      },
      "outputs": [],
      "source": [
        "# used to securely store your API key\n",
        "\n",
        "from google.colab import userdata\n"
      ]
    },
    {
      "cell_type": "code",
      "execution_count": 9,
      "metadata": {
        "id": "ngv9XtsFYhAR"
      },
      "outputs": [],
      "source": [
        "#we have named our api key as GOOGLE_API_KEY where we have stored our secret key so we are fetching an environment variable.\n",
        "GOOGLE_API_KEY = userdata.get('GOOGLE_API_KEY')\n",
        "\n",
        "genai.configure(api_key=GOOGLE_API_KEY)"
      ]
    },
    {
      "cell_type": "code",
      "execution_count": 33,
      "metadata": {
        "colab": {
          "base_uri": "https://localhost:8080/",
          "height": 780
        },
        "id": "RfOw3IpYY9XM",
        "outputId": "c0f0538b-a0a9-494d-af80-0b6834e694df"
      },
      "outputs": [
        {
          "name": "stdout",
          "output_type": "stream",
          "text": [
            "models/gemini-1.0-pro-vision-latest\n",
            "models/gemini-pro-vision\n",
            "models/gemini-1.5-pro-latest\n",
            "models/gemini-1.5-pro-002\n",
            "models/gemini-1.5-pro\n",
            "models/gemini-1.5-flash-latest\n",
            "models/gemini-1.5-flash\n",
            "models/gemini-1.5-flash-002\n",
            "models/gemini-1.5-flash-8b\n",
            "models/gemini-1.5-flash-8b-001\n",
            "models/gemini-1.5-flash-8b-latest\n",
            "models/gemini-2.5-pro-preview-03-25\n",
            "models/gemini-2.5-flash-preview-04-17\n",
            "models/gemini-2.5-flash-preview-05-20\n",
            "models/gemini-2.5-flash\n",
            "models/gemini-2.5-flash-preview-04-17-thinking\n",
            "models/gemini-2.5-flash-lite-preview-06-17\n",
            "models/gemini-2.5-pro-preview-05-06\n",
            "models/gemini-2.5-pro-preview-06-05\n",
            "models/gemini-2.5-pro\n",
            "models/gemini-2.0-flash-exp\n",
            "models/gemini-2.0-flash\n",
            "models/gemini-2.0-flash-001\n",
            "models/gemini-2.0-flash-exp-image-generation\n",
            "models/gemini-2.0-flash-lite-001\n",
            "models/gemini-2.0-flash-lite\n",
            "models/gemini-2.0-flash-preview-image-generation\n",
            "models/gemini-2.0-flash-lite-preview-02-05\n",
            "models/gemini-2.0-flash-lite-preview\n",
            "models/gemini-2.0-pro-exp\n",
            "models/gemini-2.0-pro-exp-02-05\n",
            "models/gemini-exp-1206\n",
            "models/gemini-2.0-flash-thinking-exp-01-21\n",
            "models/gemini-2.0-flash-thinking-exp\n",
            "models/gemini-2.0-flash-thinking-exp-1219\n",
            "models/gemini-2.5-flash-preview-tts\n",
            "models/gemini-2.5-pro-preview-tts\n",
            "models/learnlm-2.0-flash-experimental\n",
            "models/gemma-3-1b-it\n",
            "models/gemma-3-4b-it\n",
            "models/gemma-3-12b-it\n",
            "models/gemma-3-27b-it\n",
            "models/gemma-3n-e4b-it\n",
            "models/gemma-3n-e2b-it\n"
          ]
        }
      ],
      "source": [
        "# we will list our models so we use list_models to see the available Gemini models\n",
        "#gemini-pro : optimized for text-only prompts\n",
        "#gemini-pro-vision : optimized for text-and-images prompts\n",
        "\n",
        "for m in genai.list_models():\n",
        "  if 'generateContent' in m.supported_generation_methods:\n",
        "    print(m.name)"
      ]
    },
    {
      "cell_type": "code",
      "execution_count": 40,
      "metadata": {
        "id": "YfhLxb0VZ31J"
      },
      "outputs": [],
      "source": [
        "# for text-only prompts use the gemini-pro model :\n",
        "\n",
        "model = genai.GenerativeModel('gemini-2.5-flash')"
      ]
    },
    {
      "cell_type": "code",
      "execution_count": 41,
      "metadata": {
        "colab": {
          "base_uri": "https://localhost:8080/"
        },
        "id": "2PFOw_UeeSi7",
        "outputId": "daecf5b3-ac56-435c-f625-a61b22aba09d"
      },
      "outputs": [
        {
          "data": {
            "text/plain": [
              "genai.GenerativeModel(\n",
              "    model_name='models/gemini-2.5-flash',\n",
              "    generation_config={},\n",
              "    safety_settings={},\n",
              "    tools=None,\n",
              "    system_instruction=None,\n",
              "    cached_content=None\n",
              ")"
            ]
          },
          "execution_count": 41,
          "metadata": {},
          "output_type": "execute_result"
        }
      ],
      "source": [
        "model"
      ]
    },
    {
      "cell_type": "code",
      "execution_count": 75,
      "metadata": {
        "colab": {
          "base_uri": "https://localhost:8080/",
          "height": 52
        },
        "id": "FAeVsQUGeneW",
        "outputId": "d41cafc6-3191-475a-fe85-e73c9fa288c2"
      },
      "outputs": [
        {
          "name": "stdout",
          "output_type": "stream",
          "text": [
            "CPU times: user 954 ms, sys: 81.5 ms, total: 1.04 s\n",
            "Wall time: 26.7 s\n"
          ]
        }
      ],
      "source": [
        "%%time\n",
        "response = model.generate_content(\"what is definition of deprecation\")"
      ]
    },
    {
      "cell_type": "code",
      "execution_count": 45,
      "metadata": {
        "colab": {
          "base_uri": "https://localhost:8080/"
        },
        "id": "Opd1yh4ge1ss",
        "outputId": "88f6f39c-ee3f-4c7d-91a0-995218aa4fe4"
      },
      "outputs": [
        {
          "data": {
            "text/plain": [
              "response:\n",
              "GenerateContentResponse(\n",
              "    done=True,\n",
              "    iterator=None,\n",
              "    result=protos.GenerateContentResponse({\n",
              "      \"candidates\": [\n",
              "        {\n",
              "          \"content\": {\n",
              "            \"parts\": [\n",
              "              {\n",
              "                \"text\": \"**Deprecation** refers to the process of marking a feature, function, standard, practice, or piece of technology as **outdated or obsolete**, signifying that it should no longer be used.\\n\\nHere's a breakdown of what that typically means:\\n\\n1.  **Formal Warning:** It's a formal announcement or a warning to users (especially developers or system administrators) that while the item might still work for now, it is discouraged, and alternatives are available or preferred.\\n\\n2.  **No Longer Recommended:** Users are strongly advised to stop using the deprecated item and migrate to the recommended alternatives. Continuing to use it can lead to compatibility issues, security vulnerabilities, or poor performance in the future.\\n\\n3.  **Eventual Removal or Unsupport:** Deprecation often indicates that the item will eventually be removed, cease to be supported, or function incorrectly in future versions or updates of the system, software, or standard. There's usually a grace period, but reliance on deprecated features is risky.\\n\\n4.  **Why It Happens:**\\n    *   **Better Alternatives:** More efficient, secure, performant, or modern methods have been developed.\\n    *   **Security Vulnerabilities:** The old method has known security flaws.\\n    *   **Performance Improvements:** The new method offers significant speed or resource benefits.\\n    *   **Simplification/Modernization:** To streamline systems, remove complexity, or align with new design principles.\\n    *   **Compliance:** To meet new industry standards or regulatory requirements.\\n    *   **Reduced Maintenance Burden:** Developers want to reduce the effort needed to maintain old, less-used code or features.\\n\\n**Common Contexts:**\\n\\n*   **Software Development:** APIs (Application Programming Interfaces), functions, libraries, or programming language features can be deprecated.\\n*   **Web Standards:** HTML tags, CSS properties, or JavaScript features that are no longer best practice or have been replaced.\\n*   **Hardware:** Older hardware models might be \\\"deprecated\\\" meaning they will no longer receive software updates or support.\\n*   **Company Policies/Standards:** An old way of doing something within an organization might be deprecated in favor of a new process.\\n\\nIn essence, **deprecation is a signal of transition**, providing users with a heads-up to adapt and move away from something that is no longer considered the best or safest option, and which may eventually disappear altogether.\"\n",
              "              }\n",
              "            ],\n",
              "            \"role\": \"model\"\n",
              "          },\n",
              "          \"finish_reason\": \"STOP\",\n",
              "          \"index\": 0\n",
              "        }\n",
              "      ],\n",
              "      \"usage_metadata\": {\n",
              "        \"prompt_token_count\": 7,\n",
              "        \"candidates_token_count\": 496,\n",
              "        \"total_token_count\": 1514\n",
              "      },\n",
              "      \"model_version\": \"gemini-2.5-flash\"\n",
              "    }),\n",
              ")"
            ]
          },
          "execution_count": 45,
          "metadata": {},
          "output_type": "execute_result"
        }
      ],
      "source": [
        "response\n",
        "\n"
      ]
    },
    {
      "cell_type": "code",
      "execution_count": 46,
      "metadata": {
        "colab": {
          "base_uri": "https://localhost:8080/",
          "height": 123
        },
        "id": "xgaKfD9rgH51",
        "outputId": "ba2d1378-ad07-48ff-b35f-158c03881167"
      },
      "outputs": [
        {
          "data": {
            "application/vnd.google.colaboratory.intrinsic+json": {
              "type": "string"
            },
            "text/plain": [
              "'**Deprecation** refers to the process of marking a feature, function, standard, practice, or piece of technology as **outdated or obsolete**, signifying that it should no longer be used.\\n\\nHere\\'s a breakdown of what that typically means:\\n\\n1.  **Formal Warning:** It\\'s a formal announcement or a warning to users (especially developers or system administrators) that while the item might still work for now, it is discouraged, and alternatives are available or preferred.\\n\\n2.  **No Longer Recommended:** Users are strongly advised to stop using the deprecated item and migrate to the recommended alternatives. Continuing to use it can lead to compatibility issues, security vulnerabilities, or poor performance in the future.\\n\\n3.  **Eventual Removal or Unsupport:** Deprecation often indicates that the item will eventually be removed, cease to be supported, or function incorrectly in future versions or updates of the system, software, or standard. There\\'s usually a grace period, but reliance on deprecated features is risky.\\n\\n4.  **Why It Happens:**\\n    *   **Better Alternatives:** More efficient, secure, performant, or modern methods have been developed.\\n    *   **Security Vulnerabilities:** The old method has known security flaws.\\n    *   **Performance Improvements:** The new method offers significant speed or resource benefits.\\n    *   **Simplification/Modernization:** To streamline systems, remove complexity, or align with new design principles.\\n    *   **Compliance:** To meet new industry standards or regulatory requirements.\\n    *   **Reduced Maintenance Burden:** Developers want to reduce the effort needed to maintain old, less-used code or features.\\n\\n**Common Contexts:**\\n\\n*   **Software Development:** APIs (Application Programming Interfaces), functions, libraries, or programming language features can be deprecated.\\n*   **Web Standards:** HTML tags, CSS properties, or JavaScript features that are no longer best practice or have been replaced.\\n*   **Hardware:** Older hardware models might be \"deprecated\" meaning they will no longer receive software updates or support.\\n*   **Company Policies/Standards:** An old way of doing something within an organization might be deprecated in favor of a new process.\\n\\nIn essence, **deprecation is a signal of transition**, providing users with a heads-up to adapt and move away from something that is no longer considered the best or safest option, and which may eventually disappear altogether.'"
            ]
          },
          "execution_count": 46,
          "metadata": {},
          "output_type": "execute_result"
        }
      ],
      "source": [
        "response.text"
      ]
    },
    {
      "cell_type": "code",
      "execution_count": 47,
      "metadata": {
        "colab": {
          "base_uri": "https://localhost:8080/",
          "height": 531
        },
        "id": "JGShzWmHqPtq",
        "outputId": "ecbfb1ed-4f88-431c-bb07-30b62c40acd8"
      },
      "outputs": [
        {
          "data": {
            "text/markdown": [
              "> **Deprecation** refers to the process of marking a feature, function, standard, practice, or piece of technology as **outdated or obsolete**, signifying that it should no longer be used.\n",
              "> \n",
              "> Here's a breakdown of what that typically means:\n",
              "> \n",
              "> 1.  **Formal Warning:** It's a formal announcement or a warning to users (especially developers or system administrators) that while the item might still work for now, it is discouraged, and alternatives are available or preferred.\n",
              "> \n",
              "> 2.  **No Longer Recommended:** Users are strongly advised to stop using the deprecated item and migrate to the recommended alternatives. Continuing to use it can lead to compatibility issues, security vulnerabilities, or poor performance in the future.\n",
              "> \n",
              "> 3.  **Eventual Removal or Unsupport:** Deprecation often indicates that the item will eventually be removed, cease to be supported, or function incorrectly in future versions or updates of the system, software, or standard. There's usually a grace period, but reliance on deprecated features is risky.\n",
              "> \n",
              "> 4.  **Why It Happens:**\n",
              ">     *   **Better Alternatives:** More efficient, secure, performant, or modern methods have been developed.\n",
              ">     *   **Security Vulnerabilities:** The old method has known security flaws.\n",
              ">     *   **Performance Improvements:** The new method offers significant speed or resource benefits.\n",
              ">     *   **Simplification/Modernization:** To streamline systems, remove complexity, or align with new design principles.\n",
              ">     *   **Compliance:** To meet new industry standards or regulatory requirements.\n",
              ">     *   **Reduced Maintenance Burden:** Developers want to reduce the effort needed to maintain old, less-used code or features.\n",
              "> \n",
              "> **Common Contexts:**\n",
              "> \n",
              "> *   **Software Development:** APIs (Application Programming Interfaces), functions, libraries, or programming language features can be deprecated.\n",
              "> *   **Web Standards:** HTML tags, CSS properties, or JavaScript features that are no longer best practice or have been replaced.\n",
              "> *   **Hardware:** Older hardware models might be \"deprecated\" meaning they will no longer receive software updates or support.\n",
              "> *   **Company Policies/Standards:** An old way of doing something within an organization might be deprecated in favor of a new process.\n",
              "> \n",
              "> In essence, **deprecation is a signal of transition**, providing users with a heads-up to adapt and move away from something that is no longer considered the best or safest option, and which may eventually disappear altogether."
            ],
            "text/plain": [
              "<IPython.core.display.Markdown object>"
            ]
          },
          "execution_count": 47,
          "metadata": {},
          "output_type": "execute_result"
        }
      ],
      "source": [
        "# to display formatted markdown text , use to_markdown function :\n",
        "\n",
        "to_markdown(response.text)"
      ]
    },
    {
      "cell_type": "code",
      "execution_count": 50,
      "metadata": {
        "colab": {
          "base_uri": "https://localhost:8080/"
        },
        "id": "4kRyz8iVqh41",
        "outputId": "d5f8e145-9ea6-4eff-ed1b-09dcdaff1683"
      },
      "outputs": [
        {
          "data": {
            "text/plain": []
          },
          "execution_count": 50,
          "metadata": {},
          "output_type": "execute_result"
        }
      ],
      "source": [
        "# if the api failed to return a result , use GenerateContentResponse.prompt_feedback  to see if it was blocked due to safety concerns regarding the prompt\n",
        "\n",
        "response.prompt_feedback"
      ]
    },
    {
      "cell_type": "code",
      "execution_count": 51,
      "metadata": {
        "id": "e8u7ixlpq3lN"
      },
      "outputs": [],
      "source": [
        "# stream the response as it is being generated , and the model will return chunks of the response as soon as they are generated\n",
        "\n",
        "response = model.generate_content(\"what is definition of deprecation\" , stream = True)"
      ]
    },
    {
      "cell_type": "code",
      "execution_count": 53,
      "metadata": {
        "colab": {
          "base_uri": "https://localhost:8080/"
        },
        "id": "wUJz4oTtrxNW",
        "outputId": "5189072e-f91b-4829-cff6-e517a4d11bb2"
      },
      "outputs": [
        {
          "name": "stdout",
          "output_type": "stream",
          "text": [
            "In the context of technology, software development, and standards, **deprecation** refers to the process of marking a feature, function, API (Application\n",
            "________________________________________________________________________________\n",
            " Programming Interface), standard, or practice as **outdated, discouraged, or scheduled for removal in a future version.**\n",
            "\n",
            "Here's a breakdown of what that means:\n",
            "\n",
            "1.  **Not Immediate Removal:** When something is deprecated, it typically\n",
            "________________________________________________________________________________\n",
            " still functions and is available in the current version. Deprecation is a *warning* or a *signal* rather than an immediate deletion.\n",
            "2.  **Warning of Future Changes:** It serves as a notice to users, developers, or implement\n",
            "________________________________________________________________________________\n",
            "ers that the deprecated item will likely be removed, modified, or no longer supported in upcoming releases or versions.\n",
            "3.  **Reasons for Deprecation:**\n",
            "    *   **Better Alternatives:** A more efficient, secure, performant, or user\n",
            "________________________________________________________________________________\n",
            "-friendly way of achieving the same goal has been developed.\n",
            "    *   **Security Vulnerabilities:** The deprecated item might have known security flaws.\n",
            "    *   **Performance Issues:** It might be inefficient or cause bottlenecks.\n",
            "    *   \n",
            "________________________________________________________________________________\n",
            "**Simplification/Refactoring:** The codebase or system is being streamlined, and the deprecated item no longer fits the new architecture or design philosophy.\n",
            "    *   **Changing Standards:** Industry standards or best practices have evolved, making the old approach\n",
            "________________________________________________________________________________\n",
            " obsolete.\n",
            "    *   **Lack of Usage/Maintenance:** If a feature is rarely used, its maintenance cost might outweigh its benefits.\n",
            "4.  **Guidance Provided:** Often, when something is deprecated, developers or organizations will\n",
            "________________________________________________________________________________\n",
            " provide documentation or guidance on what to use instead (the \"replacement\" or \"recommended\" approach).\n",
            "5.  **Grace Period:** Deprecation usually offers a grace period, allowing users and developers time to migrate their code, systems, or practices\n",
            "________________________________________________________________________________\n",
            " to the newer, recommended alternatives before the deprecated item is fully removed or becomes incompatible.\n",
            "\n",
            "**In essence:** Deprecation is a way for developers to evolve their software or systems while minimizing disruption. It's an announcement that \"this way\n",
            "________________________________________________________________________________\n",
            " of doing things still works for now, but we strongly recommend you stop using it and switch to this new way, because the old way will eventually disappear or break.\"\n",
            "\n",
            "**Example:**\n",
            "*   A software library might mark an old function\n",
            "________________________________________________________________________________\n",
            " `calculateLegacyTotal()` as deprecated because they've introduced a new, more efficient `calculateCurrentTotal()` function that handles more scenarios and uses updated algorithms. Users are advised to switch to `calculateCurrentTotal()` as `calculateLegacyTotal()`\n",
            "________________________________________________________________________________\n",
            " might be removed in the next major version of the library.\n",
            "\n",
            "**Note:** Deprecation (referring to making something obsolete) should not be confused with **depreciation** (an accounting term for the decrease in value of an asset over\n",
            "________________________________________________________________________________\n",
            " time).\n",
            "________________________________________________________________________________\n"
          ]
        }
      ],
      "source": [
        "for chunk in response:\n",
        "  print(chunk.text)\n",
        "  print(\"_\"*80)"
      ]
    },
    {
      "cell_type": "code",
      "execution_count": 54,
      "metadata": {
        "id": "ShjhA32nr96W"
      },
      "outputs": [],
      "source": [
        "# Generate text from image and text inputs\n",
        "\n",
        "# gemini provides a multimodal model ( gemini-pro-vision)\n",
        "# that accepts both text and images and inputs\n",
        "# GenerativeModel.generate_content API is designed to handle multimodal prompts\n",
        "# and return a text output."
      ]
    },
    {
      "cell_type": "code",
      "execution_count": 55,
      "metadata": {
        "colab": {
          "base_uri": "https://localhost:8080/"
        },
        "id": "aIMVQvm0s_MT",
        "outputId": "29def508-216e-4f75-fc16-2a638c494f8a"
      },
      "outputs": [
        {
          "data": {
            "text/plain": [
              "genai.GenerativeModel(\n",
              "    model_name='models/gemini-2.5-flash',\n",
              "    generation_config={},\n",
              "    safety_settings={},\n",
              "    tools=None,\n",
              "    system_instruction=None,\n",
              "    cached_content=None\n",
              ")"
            ]
          },
          "execution_count": 55,
          "metadata": {},
          "output_type": "execute_result"
        }
      ],
      "source": [
        "model"
      ]
    },
    {
      "cell_type": "code",
      "execution_count": 56,
      "metadata": {
        "colab": {
          "base_uri": "https://localhost:8080/"
        },
        "id": "PEOSJlGHtDFr",
        "outputId": "818e3ef1-766b-4766-ac20-36e886c76d8c"
      },
      "outputs": [
        {
          "data": {
            "text/plain": [
              "<generator object list_models at 0x7c342a272240>"
            ]
          },
          "execution_count": 56,
          "metadata": {},
          "output_type": "execute_result"
        }
      ],
      "source": [
        "genai.list_models()"
      ]
    },
    {
      "cell_type": "code",
      "execution_count": 57,
      "metadata": {
        "colab": {
          "base_uri": "https://localhost:8080/"
        },
        "id": "4M9jfxS5tI88",
        "outputId": "12209bcf-2385-4907-b0ff-65c8c6b32349"
      },
      "outputs": [
        {
          "name": "stdout",
          "output_type": "stream",
          "text": [
            "  % Total    % Received % Xferd  Average Speed   Time    Time     Time  Current\n",
            "                                 Dload  Upload   Total   Spent    Left  Speed\n",
            "\r  0     0    0     0    0     0      0      0 --:--:-- --:--:-- --:--:--     0\r  0     0    0     0    0     0      0      0 --:--:-- --:--:-- --:--:--     0\r100  7382  100  7382    0     0  42178      0 --:--:-- --:--:-- --:--:-- 42182\n"
          ]
        }
      ],
      "source": [
        "!curl https://www.python.org/static/apple-touch-icon-144x144-precomposed.png > image.png"
      ]
    },
    {
      "cell_type": "code",
      "execution_count": 61,
      "metadata": {
        "id": "ZjU2qgSstYfn"
      },
      "outputs": [],
      "source": [
        "from PIL import Image\n",
        "\n",
        "# Open the image file\n",
        "image = Image.open('image.png')"
      ]
    },
    {
      "cell_type": "code",
      "execution_count": 62,
      "metadata": {
        "colab": {
          "base_uri": "https://localhost:8080/",
          "height": 161
        },
        "id": "X6OWHC3ztiTb",
        "outputId": "3f65adf7-7a28-4fa8-fa16-4b3cddda4bd4"
      },
      "outputs": [
        {
          "data": {
            "image/png": "[encoded data removed]",
            "text/plain": [
              "<PIL.PngImagePlugin.PngImageFile image mode=RGBA size=144x144>"
            ]
          },
          "execution_count": 62,
          "metadata": {},
          "output_type": "execute_result"
        }
      ],
      "source": [
        "image"
      ]
    },
    {
      "cell_type": "code",
      "execution_count": 62,
      "metadata": {
        "id": "WtLxVZrBt0VG"
      },
      "outputs": [],
      "source": [
        "\n",
        "\n"
      ]
    },
    {
      "cell_type": "code",
      "execution_count": 63,
      "metadata": {
        "id": "y6WdI5kwt79V"
      },
      "outputs": [],
      "source": [
        "# use the gemini-pro-vision model and pass the image to\n",
        "# the model with generate_content"
      ]
    },
    {
      "cell_type": "code",
      "execution_count": 67,
      "metadata": {
        "id": "z4sKuHUouHI2"
      },
      "outputs": [],
      "source": [
        "model = genai.GenerativeModel('gemini-1.5-flash-latest')"
      ]
    },
    {
      "cell_type": "code",
      "execution_count": 68,
      "metadata": {
        "colab": {
          "base_uri": "https://localhost:8080/",
          "height": 80
        },
        "id": "5adwFd8UuJ9c",
        "outputId": "bf672a42-9f2e-4cfd-82ca-7758b83ea459"
      },
      "outputs": [
        {
          "data": {
            "text/markdown": [
              "> That's the logo for **Python**, a popular high-level, general-purpose programming language.  The logo depicts two intertwined snakes, representing the language's name (a reference to the British comedy group Monty Python).\n"
            ],
            "text/plain": [
              "<IPython.core.display.Markdown object>"
            ]
          },
          "execution_count": 68,
          "metadata": {},
          "output_type": "execute_result"
        }
      ],
      "source": [
        "response = model.generate_content(image)\n",
        "\n",
        "to_markdown(response.text)"
      ]
    },
    {
      "cell_type": "code",
      "execution_count": 68,
      "metadata": {
        "id": "anGeyL1buSni"
      },
      "outputs": [],
      "source": []
    },
    {
      "cell_type": "code",
      "execution_count": 70,
      "metadata": {
        "id": "owSlOmudvBAu"
      },
      "outputs": [],
      "source": [
        "\n",
        "from PIL import Image\n",
        "\n",
        "# Open the image file\n",
        "image = Image.open('logo.jpg')"
      ]
    },
    {
      "cell_type": "code",
      "execution_count": 71,
      "metadata": {
        "colab": {
          "base_uri": "https://localhost:8080/",
          "height": 249
        },
        "id": "Pt4E0SR_vFB1",
        "outputId": "9037b49d-eb76-4c4b-b7ab-6feaf2589cec"
      },
      "outputs": [
        {
          "data": {
            "text/markdown": [
              "> Here is a description of the image: Close-up view of Neymar Jr., the famous Brazilian soccer player, smiling and holding a Paris Saint-Germain jersey. \n",
              "> \n",
              "> \n",
              "> Here's a breakdown of the image:\n",
              "> \n",
              "> * **Neymar:** He is the central focus, occupying most of the frame. His hair is styled in a textured, slightly bleached look. He's wearing a dark blue Paris Saint-Germain home jersey with the \"Fly Emirates\" sponsor prominently displayed.  He has a very slight stubble beard and a happy, relaxed expression.\n",
              "> \n",
              "> * **The Jersey:** He's holding a maroon-colored Paris Saint-Germain away jersey, which has his name, \"NEYMAR JR,\" clearly printed on the back.\n",
              "> \n",
              "> * **Background:** The background is blurred, indicative of a shallow depth of field, but shows a soccer stadium with blue seating. This suggests the photo was taken at a stadium event.\n",
              "> \n",
              "> * **Overall:** The image is well-lit and professionally taken, likely during a press event or similar occasion where players are presented with new kits or are doing promotional work. The focus is clearly on Neymar and his positive expression.\n"
            ],
            "text/plain": [
              "<IPython.core.display.Markdown object>"
            ]
          },
          "execution_count": 71,
          "metadata": {},
          "output_type": "execute_result"
        }
      ],
      "source": [
        "response = model.generate_content(image)\n",
        "\n",
        "to_markdown(response.text)"
      ]
    },
    {
      "cell_type": "code",
      "execution_count": null,
      "metadata": {
        "id": "4PR0vDxpvKKm"
      },
      "outputs": [],
      "source": []
    }
  ],
  "metadata": {
    "colab": {
      "provenance": []
    },
    "kernelspec": {
      "display_name": "Python 3",
      "name": "python3"
    },
    "language_info": {
      "name": "python"
    }
  },
  "nbformat": 4,
  "nbformat_minor": 0
}
